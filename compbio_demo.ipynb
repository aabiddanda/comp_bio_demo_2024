{
 "cells": [
  {
   "cell_type": "markdown",
   "id": "87b3e997-0278-4a51-a0ca-650278437716",
   "metadata": {},
   "source": [
    "# A brief introduction to computational genetics\n",
    "\n",
    "Genetics is the study of how hereditary material is transmitted from one generation to the next. Each of our cells has a record of our genomes encoded in DNA, which we can then measure using machines called \"sequencers\".\n",
    "\n",
    "What sequencers allow us to measure is at a given position in the genome, whether an individual carries the same nucleotide (A,C,G,T) or two different nucleotides, or [**alleles**](https://www.genome.gov/genetics-glossary/Allele). You can visually see how alleles are distributed across two chromosomes below:\n",
    "\n",
    "![title](img/allele.png)\n",
    "\n",
    "So in this example the individual with these two chromosomes would be a *heterozygote* - containing one large \"B\" allele and one small \"b\" allele. Sequencers allow us to look at each location in the ~3 billion basepairs of our genomes and find locations where an individual might carry a different allele from another - and some of these alleles might have impacts for potential health.\n",
    "\n",
    "In this short exercise we'll explore some expectations from genetics and explore how well they fit with actual human genetic data!"
   ]
  },
  {
   "cell_type": "code",
   "execution_count": 1,
   "id": "2b73feb5-1e02-4d46-9fd9-82dacd519116",
   "metadata": {},
   "outputs": [],
   "source": [
    "import numpy as np \n",
    "import matplotlib.pyplot as plt\n",
    "\n",
    "%matplotlib inline"
   ]
  },
  {
   "cell_type": "markdown",
   "id": "d2a6c3a1-9911-4f76-b184-6d1f9cddcd80",
   "metadata": {},
   "source": [
    "## Hardy-Weinberg Equilibrium\n",
    "\n",
    "One of the core ideas in modern genetics is that when genetic material is passed down it is done so *independently*. One easy way to think about is that we recieve **two** chromosomes, one from our mother and one from our father. We can expand this notion to thinking about a population as a whole, where a particular genetic variant (or *allele*) is present at a frequency of $p$. If we were to *randomly create an individual* from this population, we would draw two chromosomes at random from the population -- like two coin flips! This is what is known as [Hardy-Weinberg Equilibrium](https://en.wikipedia.org/wiki/Hardy%E2%80%93Weinberg_principle) which was first shown around [1908](https://www.ncbi.nlm.nih.gov/pmc/articles/PMC2475721/).\n",
    "\n",
    "Since we only get two \"coin-flips\" we can then see what the probability is of getting 0,1, or 2 copies of the allele: \n",
    "\n",
    "$P(\\text{zero copies}) = (1 - p) \\times (1 - p) = (1 - p)^2$\n",
    "\n",
    "$P(\\text{one copy}) = p\\times (1-p) + (1 - p)\\times p = 2p(1-p)$\n",
    "\n",
    "$P(\\text{two copies}) = p\\times p = p^2$\n",
    "\n",
    "Before we interact with any data, let's see if we can setup some expectations for our data based on this kind of \"two-coin flip\" analogy. "
   ]
  },
  {
   "cell_type": "code",
   "execution_count": 2,
   "id": "25bce887-6cc4-4dbc-9b35-4bd896b03ed0",
   "metadata": {},
   "outputs": [],
   "source": [
    "def hardy_weinberg(p):\n",
    "    \"\"\"Provide genotype frequencies assuming allele frequencies.\"\"\"\n",
    "    assert (p >= 0.0) and (p <= 1.0)\n",
    "    p00 = (1-p)**2\n",
    "    p01 = p # NOTE: this is incorrect - make sure we fix this based on the above equations!\n",
    "    p11 = p # NOTE: this is incorrect - make sure we fix this based on the above equations!\n",
    "    return p00, p01, p11"
   ]
  },
  {
   "cell_type": "code",
   "execution_count": 3,
   "id": "2386c794-0a8d-4ecc-b60d-a45c3a5cf2a7",
   "metadata": {},
   "outputs": [
    {
     "data": {
      "text/plain": [
       "Text(0, 0.5, 'Genotype Frequency')"
      ]
     },
     "execution_count": 3,
     "metadata": {},
     "output_type": "execute_result"
    },
    {
     "data": {
      "image/png": "[encoded data removed]",
      "text/plain": [
       "<Figure size 400x400 with 1 Axes>"
      ]
     },
     "metadata": {},
     "output_type": "display_data"
    }
   ],
   "source": [
    "fig, ax = plt.subplots(1,1,figsize=(4,4))\n",
    "\n",
    "# Setup a linear space of allele frequencies\n",
    "ps = np.linspace(0.0, 1.0, 30)\n",
    "# This makes the matrix of expected genotype frequencies ... \n",
    "geno_exp = np.array([hardy_weinberg(p) for p in ps])\n",
    "ax.plot(ps, geno_exp[:,0], lw=2, label='P(00)', color='blue')\n",
    "# ax.plot(ps, geno_exp[:,2], lw=2, label='P(11)', color='green')\n",
    "# ax.plot(ps, geno_exp[:,1], lw=2, label='P(01)', color='orange')\n",
    "ax.legend()\n",
    "ax.set_xlabel('Allele Frequency')\n",
    "ax.set_ylabel('Genotype Frequency')"
   ]
  },
  {
   "cell_type": "markdown",
   "id": "cb3c1409-e300-4dc9-860d-e093770a5bb7",
   "metadata": {},
   "source": [
    "## Matching our expectations to data in the 1000 Genomes Project\n",
    "\n",
    "One of the coolest things about science is that we often are after a kind of three-step process:\n",
    "\n",
    "1. Set some expectations for what we expect data to look like\n",
    "2. Process some data and manipulate it\n",
    "3. See if our predictions match our data! \n",
    "\n",
    "We've already gone through the first part (making a prediction), and I've processed some data for us, so now we can try to match our expectations to actual data. In this exercise we'll be looking at data from a set of 179 european-ancestry individuals. This data comes from one of the first large-scale studies of human genetic diversity called the [1000 Genomes Project](https://www.internationalgenome.org/)."
   ]
  },
  {
   "cell_type": "code",
   "execution_count": 4,
   "id": "97aed14d-2d58-4386-9eaa-7c3480671413",
   "metadata": {},
   "outputs": [],
   "source": [
    "# Loading in the data \n",
    "data = np.load('data/npz_files/ceu.chr22.1kg_phase3.ld_pruned.npz')\n",
    "# AFS is a vector of the allele frequencies\n",
    "afs = data['af']\n",
    "\n",
    "# Geno is a matrix of Variants x Individuals - where every entry is whether the individual carries 0,1,2 copies of an allele\n",
    "geno = data['geno']"
   ]
  },
  {
   "cell_type": "markdown",
   "id": "94eb87d2-de3a-4a7c-bf81-4394f4d7593d",
   "metadata": {},
   "source": [
    "We can now also just look at these two bits of data and see what they roughly look like:"
   ]
  },
  {
   "cell_type": "code",
   "execution_count": 5,
   "id": "f4e836fb-12cb-4098-8196-eef5edfa20eb",
   "metadata": {},
   "outputs": [
    {
     "data": {
      "text/plain": [
       "(array([0.00558659, 0.00558659, 0.04469274, ..., 0.02793296, 0.03631285,\n",
       "        0.00558659]),\n",
       " array([[0, 0, 0, ..., 0, 0, 0],\n",
       "        [0, 0, 0, ..., 0, 0, 0],\n",
       "        [0, 0, 0, ..., 0, 0, 1],\n",
       "        ...,\n",
       "        [0, 0, 0, ..., 0, 0, 0],\n",
       "        [0, 0, 0, ..., 0, 0, 0],\n",
       "        [0, 0, 0, ..., 0, 0, 0]], dtype=int32))"
      ]
     },
     "execution_count": 5,
     "metadata": {},
     "output_type": "execute_result"
    }
   ],
   "source": [
    "afs, geno"
   ]
  },
  {
   "cell_type": "markdown",
   "id": "59b7122b-0088-4cec-be18-bcc84e6eac4e",
   "metadata": {},
   "source": [
    "Now that we've loaded the data, we can ask some basic questions about the data. For example, lets try to answer the following questions (using python): \n",
    "\n",
    "1. What is the mean allele frequency of these variants in the sample?\n",
    "2. How many individuals were sampled?\n",
    "3. How many variants are present in this dataset?\n",
    "\n",
    "The data are loaded in as well-described `numpy` arrays which have nice attributes like `.size` and `.shape` to help us potentially answer these questions!"
   ]
  },
  {
   "cell_type": "code",
   "execution_count": 6,
   "id": "b6d3e7be-18f6-4955-a675-7d19a25c5dc5",
   "metadata": {
    "scrolled": true
   },
   "outputs": [
    {
     "name": "stdout",
     "output_type": "stream",
     "text": [
      "Mean allele frequency: 0.06581079375053843\n"
     ]
    }
   ],
   "source": [
    "print(f'Mean allele frequency: {np.mean(afs)}')\n",
    "# print(f'Number of individuals: {geno.shape[1]}')\n",
    "# print(f'Number of variants: {geno.shape[0]}')"
   ]
  },
  {
   "cell_type": "markdown",
   "id": "a0957cd0-a0fa-408f-8aae-6252c899fdb0",
   "metadata": {},
   "source": [
    "Now that we've addressed some basic questions about the data, lets try to write a function to calculate the \"genotype frequencies\". This is the y-axis of the plot that we made above with our expectations under Hardy-Weinberg Equilibrium. "
   ]
  },
  {
   "cell_type": "code",
   "execution_count": 7,
   "id": "2b12a6ea-8f40-4a5c-8d0b-4ecf8ae9658b",
   "metadata": {},
   "outputs": [],
   "source": [
    "def genotype_frequencies(geno):\n",
    "    \"\"\"Estimate the genotype frequencies.\"\"\"\n",
    "    # Since the columns are the number of individuals this is the denominator ... \n",
    "    n = geno.shape[1]\n",
    "    # NOTE: this is actually a cool trick to count the number of '0's across each row (or variant)!\n",
    "    f00 = (geno == 0).sum(axis = 1) / n\n",
    "    f01 = (geno == 1).sum(axis = 1) / n\n",
    "    f11 = (geno == 2).sum(axis = 1) / n\n",
    "    return f00, f01, f11\n",
    "\n",
    "f00, f01, f11 = genotype_frequencies(geno=geno)"
   ]
  },
  {
   "cell_type": "code",
   "execution_count": 8,
   "id": "581a08e3-0b85-48be-96b1-0f50fb90d506",
   "metadata": {},
   "outputs": [
    {
     "data": {
      "text/plain": [
       "Text(0, 0.5, 'Genotype Frequency')"
      ]
     },
     "execution_count": 8,
     "metadata": {},
     "output_type": "execute_result"
    },
    {
     "data": {
      "image/png": "[encoded data removed]",
      "text/plain": [
       "<Figure size 400x400 with 1 Axes>"
      ]
     },
     "metadata": {},
     "output_type": "display_data"
    }
   ],
   "source": [
    "fig, ax = plt.subplots(1,1,figsize=(4,4))\n",
    "\n",
    "# Step1: Lets plot the allele frequency (across the whole sample) (lets slowly uncomment these?)\n",
    "# ax.scatter(afs, f00, s=10, alpha=0.05, color='blue')\n",
    "# ax.scatter(afs, f11, s=10, alpha=0.05, color='green')\n",
    "# ax.scatter(afs, f01, s=10, alpha=0.05, color='orange')\n",
    "\n",
    "\n",
    "# Step 2: What happens if we overlay some of our predictions!\n",
    "# ps = np.linspace(0.0, 1.0, 30)\n",
    "# geno_exp = np.array([hardy_weinberg(p) for p in ps])\n",
    "# ax.plot(ps, geno_exp[:,0], lw=2, label='P(00)', color='red')\n",
    "# ax.plot(ps, geno_exp[:,2], lw=2, label='P(11)', color='red')\n",
    "# ax.plot(ps, geno_exp[:,1], lw=2, label='P(01)', color='red')\n",
    "\n",
    "ax.set_xlabel('Allele Frequency')\n",
    "ax.set_ylabel('Genotype Frequency')"
   ]
  },
  {
   "cell_type": "markdown",
   "id": "8ea0e562-ffe4-4cb6-8ac4-2b9144b5c6b4",
   "metadata": {},
   "source": [
    "What is kind of incredible is that this actually seems to match the data quite well! This helps to illustrate that even these kind of simple predictions (we started with thinking about flipping coins!) can be really useful to understand measurements we can make in the real world!"
   ]
  },
  {
   "cell_type": "code",
   "execution_count": null,
   "id": "885a481c-912c-4872-ac52-b6c9abadb8a4",
   "metadata": {},
   "outputs": [],
   "source": []
  }
 ],
 "metadata": {
  "kernelspec": {
   "display_name": "Python 3 (ipykernel)",
   "language": "python",
   "name": "python3"
  },
  "language_info": {
   "codemirror_mode": {
    "name": "ipython",
    "version": 3
   },
   "file_extension": ".py",
   "mimetype": "text/x-python",
   "name": "python",
   "nbconvert_exporter": "python",
   "pygments_lexer": "ipython3",
   "version": "3.11.4"
  }
 },
 "nbformat": 4,
 "nbformat_minor": 5
}
